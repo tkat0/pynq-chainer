{
 "cells": [
  {
   "cell_type": "code",
   "execution_count": 5,
   "metadata": {
    "collapsed": true
   },
   "outputs": [],
   "source": [
    "import numpy as np\n",
    "import cffi\n",
    "from pynq import Overlay\n",
    "# load Base Overlay\n",
    "Overlay(\"/home/xilinx/pynq/bitstream/base.bit\").download()\n",
    "\n",
    "from pynq.drivers import xlnk\n",
    "import chainer\n",
    "from chainer import links as L\n",
    "from chainer import functions as F\n",
    "\n",
    "%matplotlib inline\n",
    "import matplotlib.pyplot as plt\n",
    "import sys"
   ]
  },
  {
   "cell_type": "code",
   "execution_count": 6,
   "metadata": {
    "collapsed": false
   },
   "outputs": [],
   "source": [
    "train, test = chainer.datasets.get_mnist()\n",
    "\n",
    "x, label = train[0]\n",
    "\n",
    "img = x.reshape(28,28)"
   ]
  },
  {
   "cell_type": "code",
   "execution_count": 7,
   "metadata": {
    "collapsed": true
   },
   "outputs": [],
   "source": [
    "input_image = x[np.newaxis,:]\n",
    "input_image = input_image.astype(np.float32)\n",
    "input_image = chainer.Variable(input_image)"
   ]
  },
  {
   "cell_type": "markdown",
   "metadata": {},
   "source": [
    "# CPU "
   ]
  },
  {
   "cell_type": "code",
   "execution_count": null,
   "metadata": {
    "collapsed": true
   },
   "outputs": [],
   "source": []
  },
  {
   "cell_type": "code",
   "execution_count": 8,
   "metadata": {
    "collapsed": true
   },
   "outputs": [],
   "source": [
    "class MLP(chainer.Chain):\n",
    "\n",
    "    def __init__(self, n_units, n_out):\n",
    "        super(MLP, self).__init__(\n",
    "            # the size of the inputs to each layer will be inferred\n",
    "            l1=L.Linear(None, n_units),  # n_in -> n_units\n",
    "            l2=L.Linear(None, n_units),  # n_units -> n_units\n",
    "            l3=L.Linear(None, n_out),  # n_units -> n_out\n",
    "        )\n",
    "\n",
    "    def __call__(self, x):\n",
    "        h1 = F.relu(self.l1(x))\n",
    "        h2 = F.relu(self.l2(h1))\n",
    "        h3 = self.l3(h2)\n",
    "        return h3"
   ]
  },
  {
   "cell_type": "code",
   "execution_count": 9,
   "metadata": {
    "collapsed": false
   },
   "outputs": [
    {
     "name": "stdout",
     "output_type": "stream",
     "text": [
      "result 5\n",
      "seikai 5\n"
     ]
    }
   ],
   "source": [
    "mlp_cpu = MLP(n_units=32, n_out=10)\n",
    "\n",
    "resume = \"./mnist_iter_12000.npz\"\n",
    "chainer.serializers.load_npz(resume, mlp_cpu)\n",
    "\n",
    "y = F.argmax(F.softmax(mlp_cpu(input_image)))\n",
    "\n",
    "print(\"result\", y.data)\n",
    "print(\"seikai\", label)"
   ]
  },
  {
   "cell_type": "markdown",
   "metadata": {},
   "source": [
    "# FPGA"
   ]
  },
  {
   "cell_type": "code",
   "execution_count": 11,
   "metadata": {
    "collapsed": false
   },
   "outputs": [],
   "source": [
    "# 実際はon-the-fly\n",
    "bitfile = \"./bitstream.bit\"\n",
    "libfile = \"./src/libaccel.so\"\n",
    "ffi = cffi.FFI()\n",
    "ffi.cdef(\"void _Z18_p0_mmult_accel1_0PfS_S_iii(float*, float*, float*, int, int, int);\")\n",
    "lib = ffi.dlopen(libfile)\n",
    "Overlay(bitfile).download()"
   ]
  },
  {
   "cell_type": "code",
   "execution_count": 19,
   "metadata": {
    "collapsed": false
   },
   "outputs": [],
   "source": [
    "memmanager = xlnk.xlnk()\n",
    "\n",
    "def init_contiguous_ndarray(size=(32,32), dtype=\"float\"):\n",
    "    buf_size = size[0]*size[1]\n",
    "    buf = memmanager.cma_alloc(buf_size, data_type=dtype)\n",
    "    v_cdata = ffi.buffer(buf,  buf_size * ffi.sizeof(dtype))\n",
    "    v = np.frombuffer(v_cdata, dtype=np.float32).reshape(size)\n",
    "    return v, v_cdata"
   ]
  },
  {
   "cell_type": "code",
   "execution_count": 20,
   "metadata": {
    "collapsed": true
   },
   "outputs": [],
   "source": [
    "class _Linear(L.Linear):\n",
    "    def __call__(self, x):\n",
    "        \n",
    "        if self.has_uninitialized_params:\n",
    "            self._initialize_params(x.size // x.shape[0])\n",
    "\n",
    "        #y = Linear()(x, self.W)\n",
    "        y = self.linear(x.data, self.W.data)\n",
    "\n",
    "        return chainer.Variable(y)\n",
    "\n",
    "    def linear(self, x, w):\n",
    "        import overlay, cffi\n",
    "        self.ffi = cffi.FFI()\n",
    "        x_nrows, x_ncols = x.shape\n",
    "        w_nrows, w_ncols = w.shape\n",
    "        #y = np.zeros((x_nrows, w_nrows)).astype(np.float32) #XXX\n",
    "        y, y_cdata = init_contiguous_ndarray((x_nrows, w_nrows))\n",
    "\n",
    "        x_cdata = self.ffi.from_buffer(x.data)\n",
    "        w_cdata = self.ffi.from_buffer(w.data)\n",
    "        #y_cdata = self.ffi.from_buffer(y.data)\n",
    "        lib.mmult_accel1(x_cdata, w_cdata, y_cdata, x_nrows, w_nrows, x_ncols)\n",
    "        return y\n"
   ]
  },
  {
   "cell_type": "code",
   "execution_count": 21,
   "metadata": {
    "collapsed": true
   },
   "outputs": [],
   "source": [
    "class MLP_FPGA(chainer.Chain):\n",
    "\n",
    "    def __init__(self, n_units, n_out):\n",
    "        super(MLP_FPGA, self).__init__(\n",
    "            # the size of the inputs to each layer will be inferred\n",
    "            l1=_Linear(None, n_units),  # n_in -> n_units\n",
    "            l2=_Linear(None, n_units),  # n_units -> n_units\n",
    "            l3=_Linear(None, n_out),  # n_units -> n_out\n",
    "        )\n",
    "\n",
    "    def __call__(self, x):\n",
    "        h1 = F.relu(self.l1(x))\n",
    "        h2 = F.relu(self.l2(h1))\n",
    "        h3 = self.l3(h2)\n",
    "        print(\"call\")\n",
    "        print(x.shape)\n",
    "        print(h1.shape)\n",
    "        print(h1.data)\n",
    "        print(h2.shape)\n",
    "        print(h2.data)\n",
    "        print(h3.shape)\n",
    "        print(h3.data)\n",
    "        print(\"call done\")\n",
    "        return h3"
   ]
  },
  {
   "cell_type": "code",
   "execution_count": 22,
   "metadata": {
    "collapsed": false
   },
   "outputs": [],
   "source": [
    "mlp_fpga = MLP_FPGA(n_units=32, n_out=10)\n",
    "\n",
    "resume = \"./mnist_iter_12000.npz\"\n",
    "chainer.serializers.load_npz(resume, mlp_fpga)\n",
    "\n",
    "# 入力画像をCMA-arrayに変換\n",
    "input_image, _ = init_contiguous_ndarray((1, 784))"
   ]
  },
  {
   "cell_type": "code",
   "execution_count": 29,
   "metadata": {
    "collapsed": false
   },
   "outputs": [
    {
     "name": "stdout",
     "output_type": "stream",
     "text": [
      "('/l2/b', <variable b>)\n",
      "('/l2/W', <variable W>)\n",
      "('/l1/b', <variable b>)\n",
      "('/l1/W', <variable W>)\n",
      "('/l3/b', <variable b>)\n",
      "('/l3/W', <variable W>)\n"
     ]
    }
   ],
   "source": [
    "# モデル内のVariableをCMA-arrayに変換\n",
    "\n",
    "def cma_from_array(array):\n",
    "    shape = array.shape\n",
    "    dstarray, cbuf = init_contiguous_ndarray(shape)\n",
    "    # copy\n",
    "    return dstarray, cbuf\n",
    "\n",
    "for p in mlp_fpga.namedparams():\n",
    "    print(p)\n"
   ]
  },
  {
   "cell_type": "code",
   "execution_count": 32,
   "metadata": {
    "collapsed": false
   },
   "outputs": [
    {
     "data": {
      "text/plain": [
       "(32, 32)"
      ]
     },
     "execution_count": 32,
     "metadata": {},
     "output_type": "execute_result"
    }
   ],
   "source": [
    "shape = mlp_fpga.l2.W.data.shape\n",
    "ndarray, cbuf = init_contiguous_ndarray(shape)\n"
   ]
  },
  {
   "cell_type": "code",
   "execution_count": null,
   "metadata": {
    "collapsed": false
   },
   "outputs": [],
   "source": [
    "h = mlp_fpga(input_image)\n",
    "#print(h.data)\n",
    "h = F.softmax(h)\n",
    "print(h.data)\n",
    "y = F.argmax(h)\n",
    "print(\"result\", y.data)\n",
    "print(\"seikai\", label)"
   ]
  },
  {
   "cell_type": "code",
   "execution_count": null,
   "metadata": {
    "collapsed": true
   },
   "outputs": [],
   "source": []
  },
  {
   "cell_type": "markdown",
   "metadata": {},
   "source": [
    "# Benchmark "
   ]
  },
  {
   "cell_type": "code",
   "execution_count": null,
   "metadata": {
    "collapsed": true
   },
   "outputs": [],
   "source": [
    " %timeit -n 10 -o mlp_cpu(input_image)"
   ]
  },
  {
   "cell_type": "code",
   "execution_count": null,
   "metadata": {
    "collapsed": true
   },
   "outputs": [],
   "source": [
    " %timeit -n 10 -o mlp_fpga(input_image)"
   ]
  }
 ],
 "metadata": {
  "kernelspec": {
   "display_name": "Python 3",
   "language": "python",
   "name": "python3"
  },
  "language_info": {
   "codemirror_mode": {
    "name": "ipython",
    "version": 3
   },
   "file_extension": ".py",
   "mimetype": "text/x-python",
   "name": "python",
   "nbconvert_exporter": "python",
   "pygments_lexer": "ipython3",
   "version": "3.4.3+"
  }
 },
 "nbformat": 4,
 "nbformat_minor": 1
}
