{
 "cells": [
  {
   "cell_type": "markdown",
   "metadata": {},
   "source": [
    "# mmultの単体テスト"
   ]
  },
  {
   "cell_type": "code",
   "execution_count": 1,
   "metadata": {
    "collapsed": false
   },
   "outputs": [
    {
     "name": "stdout",
     "output_type": "stream",
     "text": [
      "pcsim is not run on pynq\n"
     ]
    }
   ],
   "source": [
    "import numpy as np\n",
    "import cffi\n",
    "\n",
    "from pynq import Overlay\n",
    "\n",
    "# load Base Overlay\n",
    "Overlay(\"/home/xilinx/pynq/bitstream/base.bit\").download()\n",
    "\n",
    "import sys\n",
    "sys.path.append(\"..\")\n",
    "\n",
    "from pynq_chainer import functions as F_\n",
    "from pynq_chainer import links as L_\n",
    "from pynq_chainer import overlays\n",
    "from pynq_chainer import utils"
   ]
  },
  {
   "cell_type": "code",
   "execution_count": 22,
   "metadata": {
    "collapsed": false
   },
   "outputs": [],
   "source": [
    "from pynq.drivers import xlnk\n",
    "memman = xlnk.xlnk()\n",
    "memman.xlnk_reset()"
   ]
  },
  {
   "cell_type": "code",
   "execution_count": 3,
   "metadata": {
    "collapsed": false
   },
   "outputs": [],
   "source": [
    "mmult = overlays.Mmult()\n",
    "ffi = cffi.FFI()"
   ]
  },
  {
   "cell_type": "code",
   "execution_count": 14,
   "metadata": {
    "collapsed": true
   },
   "outputs": [],
   "source": [
    "def debug_cdata(name, cdata):\n",
    "    print(name)\n",
    "    for i in range(5):\n",
    "        print(cdata[i])"
   ]
  },
  {
   "cell_type": "code",
   "execution_count": 32,
   "metadata": {
    "collapsed": false
   },
   "outputs": [],
   "source": [
    "def test(debug=False):\n",
    "    ffi = cffi.FFI()\n",
    "    \n",
    "    w_size = (1024, 32)\n",
    "    x_size = (512, 32)\n",
    "    w_size = (1, 784)\n",
    "    x_size = (32, 784)\n",
    "    w_size = (4, 4)\n",
    "    x_size = (4, 4)\n",
    "\n",
    "    w = np.random.uniform(-1, 1, w_size).astype(np.float32)\n",
    "    x = np.random.uniform(-1, 1, x_size).astype(np.float32)\n",
    "\n",
    "    x_nrows, x_ncols = x.shape\n",
    "    w_nrows, w_ncols = w.shape\n",
    "    #y = np.zeros((w_nrows, x_nrows)).astype(np.float32)\n",
    "    y, y_cdata = utils.malloc_cma_ndarray((w_nrows, x_nrows))\n",
    "    \n",
    "    x, x_cdata = utils.copy_cma_ndarray(x)\n",
    "    w, w_cdata = utils.copy_cma_ndarray(w)\n",
    "\n",
    "    #x_cdata = ffi.from_buffer(x.data)\n",
    "    #w_cdata = ffi.from_buffer(w.data)\n",
    "    #y_cdata = ffi.from_buffer(y.data)\n",
    "    \n",
    "    print('x', x_cdata)\n",
    "    print('w', w_cdata)\n",
    "    print('y', y_cdata)\n",
    "    debug_cdata(\"x\", x_cdata)\n",
    "    debug_cdata(\"w\", w_cdata)\n",
    "    debug_cdata(\"y\", y_cdata)\n",
    "\n",
    "    print('call')\n",
    "    mmult(x_cdata, w_cdata, y_cdata, x_nrows, w_nrows, x_ncols)\n",
    "    print('done')\n",
    "    debug_cdata(\"y\", y_cdata)\n",
    "    y_ = x.dot(w.T)\n",
    "    y = y.T\n",
    "    \n",
    "    debug_cdata(\"y\", y_cdata)\n",
    "\n",
    "    if debug:\n",
    "        print(\"Actual(C):\")\n",
    "        print(y)\n",
    "        print(\"Expected(NumPy):\")\n",
    "        print(y_)\n",
    "    \n",
    "    if np.allclose(y, y_, rtol=1e-04, atol=1e-04):\n",
    "        print(\"OK\")\n",
    "    else:\n",
    "        print(\"NG\")"
   ]
  },
  {
   "cell_type": "code",
   "execution_count": 34,
   "metadata": {
    "collapsed": false,
    "scrolled": false
   },
   "outputs": [
    {
     "name": "stdout",
     "output_type": "stream",
     "text": [
      "cma alloc\n",
      "cma alloc\n",
      "cma alloc\n",
      "x <cdata 'float *' 0x30908000>\n",
      "w <cdata 'float *' 0x30907000>\n",
      "y <cdata 'float *' 0x30909000>\n",
      "x\n",
      "0.3781375586986542\n",
      "-0.45675113797187805\n",
      "-0.6550893783569336\n",
      "-0.7292472124099731\n",
      "-0.9789353013038635\n",
      "w\n",
      "0.6785516738891602\n",
      "0.3108958899974823\n",
      "-0.49067652225494385\n",
      "0.4745200276374817\n",
      "0.3293452858924866\n",
      "y\n",
      "0.0\n",
      "0.0\n",
      "0.0\n",
      "0.0\n",
      "0.0\n",
      "call\n",
      "done\n",
      "y\n",
      "0.0\n",
      "0.0\n",
      "0.0\n",
      "0.0\n",
      "-0.3743168115615845\n",
      "y\n",
      "0.08997839689254761\n",
      "-1.0227261781692505\n",
      "-0.6401324272155762\n",
      "0.14225299656391144\n",
      "-0.3743168115615845\n",
      "Actual(C):\n",
      "[[ 0.0899784  -0.37431681 -0.33607054 -1.41942143]\n",
      " [-1.02272618  0.80610824 -0.50525182  1.88180518]\n",
      " [-0.64013243 -0.78106719 -0.05132452 -0.74017799]\n",
      " [ 0.142253   -0.06361359 -0.67438722 -1.11192119]]\n",
      "Expected(NumPy):\n",
      "[[ 0.0899784  -0.37431681 -0.33607054 -1.41942143]\n",
      " [-1.02272618  0.80610824 -0.50525182  1.88180518]\n",
      " [-0.64013243 -0.78106719 -0.05132452 -0.74017799]\n",
      " [ 0.142253   -0.06361359 -0.67438722 -1.11192119]]\n",
      "OK\n"
     ]
    }
   ],
   "source": [
    "for i in range(1):\n",
    "    test(debug=True)"
   ]
  },
  {
   "cell_type": "code",
   "execution_count": null,
   "metadata": {
    "collapsed": true
   },
   "outputs": [],
   "source": []
  },
  {
   "cell_type": "code",
   "execution_count": null,
   "metadata": {
    "collapsed": false
   },
   "outputs": [],
   "source": [
    "memman."
   ]
  },
  {
   "cell_type": "code",
   "execution_count": null,
   "metadata": {
    "collapsed": true
   },
   "outputs": [],
   "source": [
    "c"
   ]
  }
 ],
 "metadata": {
  "anaconda-cloud": {},
  "kernelspec": {
   "display_name": "Python 3",
   "language": "python",
   "name": "python3"
  },
  "language_info": {
   "codemirror_mode": {
    "name": "ipython",
    "version": 3
   },
   "file_extension": ".py",
   "mimetype": "text/x-python",
   "name": "python",
   "nbconvert_exporter": "python",
   "pygments_lexer": "ipython3",
   "version": "3.4.3+"
  }
 },
 "nbformat": 4,
 "nbformat_minor": 0
}
