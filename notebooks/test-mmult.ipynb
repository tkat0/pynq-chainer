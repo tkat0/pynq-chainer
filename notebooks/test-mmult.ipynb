{
 "cells": [
  {
   "cell_type": "markdown",
   "metadata": {},
   "source": [
    "# mmult unit test"
   ]
  },
  {
   "cell_type": "code",
   "execution_count": 1,
   "metadata": {
    "collapsed": false
   },
   "outputs": [
    {
     "name": "stdout",
     "output_type": "stream",
     "text": [
      "pcsim is not run on pynq\n"
     ]
    }
   ],
   "source": [
    "import numpy as np\n",
    "import cffi\n",
    "\n",
    "from pynq import Overlay\n",
    "\n",
    "# load Base Overlay\n",
    "Overlay(\"/home/xilinx/pynq/bitstream/base.bit\").download()\n",
    "\n",
    "import sys\n",
    "sys.path.append(\"..\")\n",
    "\n",
    "from pynq_chainer import functions as F_\n",
    "from pynq_chainer import links as L_\n",
    "from pynq_chainer import overlays\n",
    "from pynq_chainer import utils"
   ]
  },
  {
   "cell_type": "code",
   "execution_count": 19,
   "metadata": {
    "collapsed": false
   },
   "outputs": [],
   "source": [
    "from pynq.drivers import xlnk\n",
    "mmu = xlnk.xlnk()\n",
    "mmu.xlnk_reset()"
   ]
  },
  {
   "cell_type": "code",
   "execution_count": 20,
   "metadata": {
    "collapsed": false
   },
   "outputs": [],
   "source": [
    "mmult = overlays.Mmult()\n",
    "ffi = cffi.FFI()"
   ]
  },
  {
   "cell_type": "code",
   "execution_count": 21,
   "metadata": {
    "collapsed": true
   },
   "outputs": [],
   "source": [
    "def debug_cdata(name, cdata, show=False):\n",
    "    if not show:\n",
    "        return\n",
    "    print(name)\n",
    "    for i in range(5):\n",
    "        print(cdata[i])"
   ]
  },
  {
   "cell_type": "code",
   "execution_count": 24,
   "metadata": {
    "collapsed": false
   },
   "outputs": [],
   "source": [
    "def test(debug=False):\n",
    "    ffi = cffi.FFI()\n",
    "    \n",
    "    w_size = (1024, 32)\n",
    "    x_size = (512, 32)\n",
    "    w_size = (1, 784)\n",
    "    x_size = (32, 784)\n",
    "\n",
    "    w = np.random.uniform(-1, 1, w_size).astype(np.float32)\n",
    "    x = np.random.uniform(-1, 1, x_size).astype(np.float32)\n",
    "\n",
    "    x_nrows, x_ncols = x.shape\n",
    "    w_nrows, w_ncols = w.shape\n",
    "    y, y_cdata = utils.malloc_cma_ndarray((w_nrows, x_nrows))\n",
    "    \n",
    "    x, x_cdata = utils.copy_cma_ndarray(x)\n",
    "    w, w_cdata = utils.copy_cma_ndarray(w)\n",
    "    \n",
    "    if debug:\n",
    "        print('x', x_cdata)\n",
    "        print('w', w_cdata)\n",
    "        print('y', y_cdata)\n",
    "    debug_cdata(\"x\", x_cdata)\n",
    "    debug_cdata(\"w\", w_cdata)\n",
    "    debug_cdata(\"y\", y_cdata)\n",
    "\n",
    "    mmult(x_cdata, w_cdata, y_cdata, x_nrows, w_nrows, x_ncols)\n",
    "    \n",
    "    debug_cdata(\"y\", y_cdata)\n",
    "    y_ = x.dot(w.T)\n",
    "    y = y.T\n",
    "    \n",
    "    debug_cdata(\"y\", y_cdata)\n",
    "\n",
    "    if debug:\n",
    "        print(\"Actual(C):\")\n",
    "        print(y)\n",
    "        print(\"Expected(NumPy):\")\n",
    "        print(y_)\n",
    "    \n",
    "    if np.allclose(y, y_, rtol=1e-04, atol=1e-04):\n",
    "        print(\"OK\")\n",
    "    else:\n",
    "        print(\"NG\")\n",
    "        \n",
    "    mmu.cma_free(x_cdata)\n",
    "    mmu.cma_free(w_cdata)\n",
    "    mmu.cma_free(y_cdata)"
   ]
  },
  {
   "cell_type": "code",
   "execution_count": 25,
   "metadata": {
    "collapsed": false,
    "scrolled": false
   },
   "outputs": [
    {
     "name": "stdout",
     "output_type": "stream",
     "text": [
      "OK\n",
      "OK\n",
      "OK\n",
      "OK\n",
      "OK\n",
      "OK\n",
      "OK\n",
      "OK\n",
      "OK\n",
      "OK\n",
      "OK\n",
      "OK\n",
      "OK\n",
      "OK\n",
      "OK\n",
      "OK\n",
      "OK\n",
      "OK\n",
      "OK\n",
      "OK\n",
      "OK\n",
      "OK\n",
      "OK\n",
      "OK\n",
      "OK\n",
      "OK\n",
      "OK\n",
      "OK\n",
      "OK\n",
      "OK\n",
      "OK\n",
      "OK\n",
      "OK\n",
      "OK\n",
      "OK\n",
      "OK\n",
      "OK\n",
      "OK\n",
      "OK\n",
      "OK\n",
      "OK\n",
      "OK\n",
      "OK\n",
      "OK\n",
      "OK\n",
      "OK\n",
      "OK\n",
      "OK\n",
      "OK\n",
      "OK\n",
      "OK\n",
      "OK\n",
      "OK\n",
      "OK\n",
      "OK\n",
      "OK\n",
      "OK\n",
      "OK\n",
      "OK\n",
      "OK\n",
      "OK\n",
      "OK\n",
      "OK\n",
      "OK\n",
      "OK\n",
      "OK\n",
      "OK\n",
      "OK\n",
      "OK\n",
      "OK\n",
      "OK\n",
      "OK\n",
      "OK\n",
      "OK\n",
      "OK\n",
      "OK\n",
      "OK\n",
      "OK\n",
      "OK\n",
      "OK\n",
      "OK\n",
      "OK\n",
      "OK\n",
      "OK\n",
      "OK\n",
      "OK\n",
      "OK\n",
      "OK\n",
      "OK\n",
      "OK\n",
      "OK\n",
      "OK\n",
      "OK\n",
      "OK\n",
      "OK\n",
      "OK\n",
      "OK\n",
      "OK\n",
      "OK\n",
      "OK\n"
     ]
    }
   ],
   "source": [
    "for i in range(100):\n",
    "    test(debug=False)"
   ]
  },
  {
   "cell_type": "code",
   "execution_count": 31,
   "metadata": {
    "collapsed": false
   },
   "outputs": [],
   "source": [
    "w_size = (1, 784)\n",
    "x_size = (1000, 784)\n",
    "\n",
    "w = np.random.uniform(-1, 1, w_size).astype(np.float32)\n",
    "x = np.random.uniform(-1, 1, x_size).astype(np.float32)\n",
    "\n",
    "x_nrows, x_ncols = x.shape\n",
    "w_nrows, w_ncols = w.shape\n",
    "y, y_cdata = utils.malloc_cma_ndarray((w_nrows, x_nrows))\n",
    "\n",
    "x, x_cdata = utils.copy_cma_ndarray(x)\n",
    "w, w_cdata = utils.copy_cma_ndarray(w)"
   ]
  },
  {
   "cell_type": "code",
   "execution_count": 32,
   "metadata": {
    "collapsed": false
   },
   "outputs": [
    {
     "name": "stdout",
     "output_type": "stream",
     "text": [
      "100 loops, best of 3: 11.4 ms per loop\n"
     ]
    },
    {
     "data": {
      "text/plain": [
       "<TimeitResult : 100 loops, best of 3: 11.4 ms per loop>"
      ]
     },
     "execution_count": 32,
     "metadata": {},
     "output_type": "execute_result"
    }
   ],
   "source": [
    "%timeit -n 100 -o x.dot(w.T)"
   ]
  },
  {
   "cell_type": "code",
   "execution_count": 33,
   "metadata": {
    "collapsed": false
   },
   "outputs": [
    {
     "name": "stdout",
     "output_type": "stream",
     "text": [
      "100 loops, best of 3: 94.9 ms per loop\n"
     ]
    },
    {
     "data": {
      "text/plain": [
       "<TimeitResult : 100 loops, best of 3: 94.9 ms per loop>"
      ]
     },
     "execution_count": 33,
     "metadata": {},
     "output_type": "execute_result"
    }
   ],
   "source": [
    "%timeit -n 100 -o mmult(x_cdata, w_cdata, y_cdata, x_nrows, w_nrows, x_ncols)"
   ]
  },
  {
   "cell_type": "code",
   "execution_count": null,
   "metadata": {
    "collapsed": true
   },
   "outputs": [],
   "source": []
  }
 ],
 "metadata": {
  "anaconda-cloud": {},
  "kernelspec": {
   "display_name": "Python 3",
   "language": "python",
   "name": "python3"
  },
  "language_info": {
   "codemirror_mode": {
    "name": "ipython",
    "version": 3
   },
   "file_extension": ".py",
   "mimetype": "text/x-python",
   "name": "python",
   "nbconvert_exporter": "python",
   "pygments_lexer": "ipython3",
   "version": "3.4.3+"
  }
 },
 "nbformat": 4,
 "nbformat_minor": 0
}
