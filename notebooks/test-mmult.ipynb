{
 "cells": [
  {
   "cell_type": "markdown",
   "metadata": {},
   "source": [
    "# mmultの単体テスト"
   ]
  },
  {
   "cell_type": "code",
   "execution_count": null,
   "metadata": {
    "collapsed": false
   },
   "outputs": [],
   "source": [
    "import numpy as np\n",
    "import cffi\n",
    "\n",
    "from pynq import Overlay\n",
    "\n",
    "# load Base Overlay\n",
    "Overlay(\"/home/xilinx/pynq/bitstream/base.bit\").download()\n",
    "\n",
    "import sys\n",
    "sys.path.append(\"..\")\n",
    "\n",
    "from pynq_chainer import functions as F_\n",
    "from pynq_chainer import links as L_\n",
    "from pynq_chainer import overlays\n",
    "from pynq_chainer import utils"
   ]
  },
  {
   "cell_type": "code",
   "execution_count": 30,
   "metadata": {
    "collapsed": false
   },
   "outputs": [],
   "source": [
    "from pynq.drivers import xlnk\n",
    "memman = xlnk.xlnk()\n",
    "memman.xlnk_reset()"
   ]
  },
  {
   "cell_type": "code",
   "execution_count": 31,
   "metadata": {
    "collapsed": false
   },
   "outputs": [],
   "source": [
    "mmult = overlays.Mmult()\n",
    "ffi = cffi.FFI()"
   ]
  },
  {
   "cell_type": "code",
   "execution_count": 32,
   "metadata": {
    "collapsed": true
   },
   "outputs": [],
   "source": [
    "def debug_cdata(name, cdata, show=False):\n",
    "    if not show:\n",
    "        return\n",
    "    print(name)\n",
    "    for i in range(5):\n",
    "        print(cdata[i])"
   ]
  },
  {
   "cell_type": "code",
   "execution_count": 33,
   "metadata": {
    "collapsed": false
   },
   "outputs": [],
   "source": [
    "def test(debug=False):\n",
    "    ffi = cffi.FFI()\n",
    "    \n",
    "    w_size = (1024, 32)\n",
    "    x_size = (512, 32)\n",
    "    w_size = (1, 784)\n",
    "    x_size = (32, 784)\n",
    "    w_size = (4, 4)\n",
    "    x_size = (4, 4)\n",
    "\n",
    "    w = np.random.uniform(-1, 1, w_size).astype(np.float32)\n",
    "    x = np.random.uniform(-1, 1, x_size).astype(np.float32)\n",
    "\n",
    "    x_nrows, x_ncols = x.shape\n",
    "    w_nrows, w_ncols = w.shape\n",
    "    #y = np.zeros((w_nrows, x_nrows)).astype(np.float32)\n",
    "    y, y_cdata = utils.malloc_cma_ndarray((w_nrows, x_nrows))\n",
    "    \n",
    "    x, x_cdata = utils.copy_cma_ndarray(x)\n",
    "    w, w_cdata = utils.copy_cma_ndarray(w)\n",
    "    \n",
    "    #utils.flush_cache(x_cdata, x.size)\n",
    "    #utils.flush_cache(w_cdata, w.size)\n",
    "\n",
    "    #x_cdata = ffi.from_buffer(x.data)\n",
    "    #w_cdata = ffi.from_buffer(w.data)\n",
    "    #y_cdata = ffi.from_buffer(y.data)\n",
    "    \n",
    "    if debug:\n",
    "        print('x', x_cdata)\n",
    "        print('w', w_cdata)\n",
    "        print('y', y_cdata)\n",
    "    debug_cdata(\"x\", x_cdata)\n",
    "    debug_cdata(\"w\", w_cdata)\n",
    "    debug_cdata(\"y\", y_cdata)\n",
    "\n",
    "\n",
    "    mmult(x_cdata, w_cdata, y_cdata, x_nrows, w_nrows, x_ncols)\n",
    "\n",
    "    \n",
    "    #utils.invalidate_cache(y_cdata, y.size)\n",
    "    \n",
    "    debug_cdata(\"y\", y_cdata)\n",
    "    y_ = x.dot(w.T)\n",
    "    y = y.T\n",
    "    \n",
    "    debug_cdata(\"y\", y_cdata)\n",
    "\n",
    "    if debug:\n",
    "        print(\"Actual(C):\")\n",
    "        print(y)\n",
    "        print(\"Expected(NumPy):\")\n",
    "        print(y_)\n",
    "    \n",
    "    if np.allclose(y, y_, rtol=1e-04, atol=1e-04):\n",
    "        print(\"OK\")\n",
    "    else:\n",
    "        print(\"NG\")"
   ]
  },
  {
   "cell_type": "code",
   "execution_count": 34,
   "metadata": {
    "collapsed": false,
    "scrolled": false
   },
   "outputs": [
    {
     "name": "stdout",
     "output_type": "stream",
     "text": [
      "cma alloc\n",
      "cma alloc\n",
      "cma alloc\n",
      "OK\n",
      "cma alloc\n",
      "cma alloc\n",
      "cma alloc\n",
      "OK\n",
      "cma alloc\n",
      "cma alloc\n",
      "cma alloc\n",
      "OK\n",
      "cma alloc\n",
      "cma alloc\n",
      "cma alloc\n",
      "OK\n",
      "cma alloc\n",
      "cma alloc\n",
      "cma alloc\n",
      "OK\n",
      "cma alloc\n",
      "cma alloc\n",
      "cma alloc\n",
      "OK\n",
      "cma alloc\n",
      "cma alloc\n",
      "cma alloc\n",
      "OK\n",
      "cma alloc\n",
      "cma alloc\n",
      "cma alloc\n",
      "OK\n",
      "cma alloc\n",
      "cma alloc\n",
      "cma alloc\n",
      "OK\n",
      "cma alloc\n",
      "cma alloc\n",
      "cma alloc\n",
      "OK\n",
      "cma alloc\n",
      "cma alloc\n",
      "cma alloc\n",
      "OK\n",
      "cma alloc\n",
      "cma alloc\n",
      "cma alloc\n",
      "OK\n",
      "cma alloc\n",
      "cma alloc\n",
      "cma alloc\n",
      "OK\n",
      "cma alloc\n",
      "cma alloc\n",
      "cma alloc\n",
      "OK\n",
      "cma alloc\n",
      "cma alloc\n",
      "cma alloc\n",
      "OK\n",
      "cma alloc\n",
      "cma alloc\n",
      "cma alloc\n",
      "OK\n",
      "cma alloc\n",
      "cma alloc\n",
      "cma alloc\n",
      "OK\n",
      "cma alloc\n",
      "cma alloc\n",
      "cma alloc\n",
      "OK\n",
      "cma alloc\n",
      "cma alloc\n",
      "cma alloc\n",
      "OK\n",
      "cma alloc\n",
      "cma alloc\n",
      "cma alloc\n",
      "OK\n",
      "cma alloc\n",
      "cma alloc\n",
      "cma alloc\n",
      "OK\n",
      "cma alloc\n",
      "cma alloc\n",
      "cma alloc\n",
      "OK\n",
      "cma alloc\n",
      "cma alloc\n",
      "cma alloc\n",
      "OK\n",
      "cma alloc\n",
      "cma alloc\n",
      "cma alloc\n",
      "OK\n",
      "cma alloc\n",
      "cma alloc\n",
      "cma alloc\n",
      "OK\n",
      "cma alloc\n",
      "cma alloc\n",
      "cma alloc\n",
      "OK\n",
      "cma alloc\n",
      "cma alloc\n",
      "cma alloc\n",
      "OK\n",
      "cma alloc\n",
      "cma alloc\n",
      "cma alloc\n",
      "OK\n",
      "cma alloc\n",
      "cma alloc\n",
      "cma alloc\n",
      "OK\n",
      "cma alloc\n",
      "cma alloc\n",
      "cma alloc\n",
      "OK\n",
      "cma alloc\n",
      "cma alloc\n",
      "cma alloc\n",
      "OK\n",
      "cma alloc\n",
      "cma alloc\n",
      "cma alloc\n",
      "OK\n",
      "cma alloc\n",
      "cma alloc\n",
      "cma alloc\n",
      "OK\n",
      "cma alloc\n"
     ]
    },
    {
     "ename": "RuntimeError",
     "evalue": "Failed to allocate Memory!",
     "output_type": "error",
     "traceback": [
      "\u001b[0;31m---------------------------------------------------------------------------\u001b[0m",
      "\u001b[0;31mRuntimeError\u001b[0m                              Traceback (most recent call last)",
      "\u001b[0;32m<ipython-input-34-502cddd5f855>\u001b[0m in \u001b[0;36m<module>\u001b[0;34m()\u001b[0m\n\u001b[1;32m      1\u001b[0m \u001b[0;32mfor\u001b[0m \u001b[0mi\u001b[0m \u001b[0;32min\u001b[0m \u001b[0mrange\u001b[0m\u001b[0;34m(\u001b[0m\u001b[0;36m100\u001b[0m\u001b[0;34m)\u001b[0m\u001b[0;34m:\u001b[0m\u001b[0;34m\u001b[0m\u001b[0m\n\u001b[0;32m----> 2\u001b[0;31m     \u001b[0mtest\u001b[0m\u001b[0;34m(\u001b[0m\u001b[0mdebug\u001b[0m\u001b[0;34m=\u001b[0m\u001b[0;32mFalse\u001b[0m\u001b[0;34m)\u001b[0m\u001b[0;34m\u001b[0m\u001b[0m\n\u001b[0m",
      "\u001b[0;32m<ipython-input-33-5c9b28327289>\u001b[0m in \u001b[0;36mtest\u001b[0;34m(debug)\u001b[0m\n\u001b[1;32m     17\u001b[0m     \u001b[0my\u001b[0m\u001b[0;34m,\u001b[0m \u001b[0my_cdata\u001b[0m \u001b[0;34m=\u001b[0m \u001b[0mutils\u001b[0m\u001b[0;34m.\u001b[0m\u001b[0mmalloc_cma_ndarray\u001b[0m\u001b[0;34m(\u001b[0m\u001b[0;34m(\u001b[0m\u001b[0mw_nrows\u001b[0m\u001b[0;34m,\u001b[0m \u001b[0mx_nrows\u001b[0m\u001b[0;34m)\u001b[0m\u001b[0;34m)\u001b[0m\u001b[0;34m\u001b[0m\u001b[0m\n\u001b[1;32m     18\u001b[0m \u001b[0;34m\u001b[0m\u001b[0m\n\u001b[0;32m---> 19\u001b[0;31m     \u001b[0mx\u001b[0m\u001b[0;34m,\u001b[0m \u001b[0mx_cdata\u001b[0m \u001b[0;34m=\u001b[0m \u001b[0mutils\u001b[0m\u001b[0;34m.\u001b[0m\u001b[0mcopy_cma_ndarray\u001b[0m\u001b[0;34m(\u001b[0m\u001b[0mx\u001b[0m\u001b[0;34m)\u001b[0m\u001b[0;34m\u001b[0m\u001b[0m\n\u001b[0m\u001b[1;32m     20\u001b[0m     \u001b[0mw\u001b[0m\u001b[0;34m,\u001b[0m \u001b[0mw_cdata\u001b[0m \u001b[0;34m=\u001b[0m \u001b[0mutils\u001b[0m\u001b[0;34m.\u001b[0m\u001b[0mcopy_cma_ndarray\u001b[0m\u001b[0;34m(\u001b[0m\u001b[0mw\u001b[0m\u001b[0;34m)\u001b[0m\u001b[0;34m\u001b[0m\u001b[0m\n\u001b[1;32m     21\u001b[0m \u001b[0;34m\u001b[0m\u001b[0m\n",
      "\u001b[0;32m/home/xilinx/jupyter_notebooks/pynq-chainer/pynq_chainer/utils.py\u001b[0m in \u001b[0;36mcopy_cma_ndarray\u001b[0;34m(array)\u001b[0m\n\u001b[1;32m     34\u001b[0m \u001b[0;34m\u001b[0m\u001b[0m\n\u001b[1;32m     35\u001b[0m \u001b[0;32mdef\u001b[0m \u001b[0mcopy_cma_ndarray\u001b[0m\u001b[0;34m(\u001b[0m\u001b[0marray\u001b[0m\u001b[0;34m)\u001b[0m\u001b[0;34m:\u001b[0m\u001b[0;34m\u001b[0m\u001b[0m\n\u001b[0;32m---> 36\u001b[0;31m     \u001b[0mx\u001b[0m\u001b[0;34m,\u001b[0m \u001b[0mcdata\u001b[0m \u001b[0;34m=\u001b[0m \u001b[0mmalloc_cma_ndarray\u001b[0m\u001b[0;34m(\u001b[0m\u001b[0marray\u001b[0m\u001b[0;34m.\u001b[0m\u001b[0mshape\u001b[0m\u001b[0;34m)\u001b[0m\u001b[0;34m\u001b[0m\u001b[0m\n\u001b[0m\u001b[1;32m     37\u001b[0m     \u001b[0;31m#np.copyto(x, array)\u001b[0m\u001b[0;34m\u001b[0m\u001b[0;34m\u001b[0m\u001b[0m\n\u001b[1;32m     38\u001b[0m     \u001b[0marray\u001b[0m \u001b[0;34m=\u001b[0m \u001b[0mffi\u001b[0m\u001b[0;34m.\u001b[0m\u001b[0mcast\u001b[0m\u001b[0;34m(\u001b[0m\u001b[0;34m\"float*\"\u001b[0m\u001b[0;34m,\u001b[0m \u001b[0marray\u001b[0m\u001b[0;34m.\u001b[0m\u001b[0mctypes\u001b[0m\u001b[0;34m.\u001b[0m\u001b[0mdata\u001b[0m\u001b[0;34m)\u001b[0m\u001b[0;34m\u001b[0m\u001b[0m\n",
      "\u001b[0;32m/home/xilinx/jupyter_notebooks/pynq-chainer/pynq_chainer/utils.py\u001b[0m in \u001b[0;36mmalloc_cma_ndarray\u001b[0;34m(shape, cacheable, dtype)\u001b[0m\n\u001b[1;32m     23\u001b[0m     \u001b[0;32mif\u001b[0m \u001b[0mIS_PYNQ\u001b[0m\u001b[0;34m:\u001b[0m\u001b[0;34m\u001b[0m\u001b[0m\n\u001b[1;32m     24\u001b[0m         \u001b[0mlength\u001b[0m \u001b[0;34m=\u001b[0m \u001b[0mshape\u001b[0m\u001b[0;34m[\u001b[0m\u001b[0;36m0\u001b[0m\u001b[0;34m]\u001b[0m\u001b[0;34m*\u001b[0m\u001b[0mshape\u001b[0m\u001b[0;34m[\u001b[0m\u001b[0;36m1\u001b[0m\u001b[0;34m]\u001b[0m\u001b[0;34m\u001b[0m\u001b[0m\n\u001b[0;32m---> 25\u001b[0;31m         \u001b[0mbuf\u001b[0m \u001b[0;34m=\u001b[0m \u001b[0mmemmanager\u001b[0m\u001b[0;34m.\u001b[0m\u001b[0mcma_alloc\u001b[0m\u001b[0;34m(\u001b[0m\u001b[0mlength\u001b[0m\u001b[0;34m,\u001b[0m \u001b[0mcacheable\u001b[0m\u001b[0;34m=\u001b[0m\u001b[0mcacheable\u001b[0m\u001b[0;34m,\u001b[0m \u001b[0mdata_type\u001b[0m\u001b[0;34m=\u001b[0m\u001b[0mdtype\u001b[0m\u001b[0;34m)\u001b[0m\u001b[0;34m\u001b[0m\u001b[0m\n\u001b[0m\u001b[1;32m     26\u001b[0m         \u001b[0mv_cdata\u001b[0m \u001b[0;34m=\u001b[0m \u001b[0mffi\u001b[0m\u001b[0;34m.\u001b[0m\u001b[0mbuffer\u001b[0m\u001b[0;34m(\u001b[0m\u001b[0mbuf\u001b[0m\u001b[0;34m,\u001b[0m  \u001b[0mlength\u001b[0m \u001b[0;34m*\u001b[0m \u001b[0mffi\u001b[0m\u001b[0;34m.\u001b[0m\u001b[0msizeof\u001b[0m\u001b[0;34m(\u001b[0m\u001b[0mdtype\u001b[0m\u001b[0;34m)\u001b[0m\u001b[0;34m)\u001b[0m\u001b[0;34m\u001b[0m\u001b[0m\n\u001b[1;32m     27\u001b[0m         \u001b[0mv\u001b[0m \u001b[0;34m=\u001b[0m \u001b[0mnp\u001b[0m\u001b[0;34m.\u001b[0m\u001b[0mfrombuffer\u001b[0m\u001b[0;34m(\u001b[0m\u001b[0mv_cdata\u001b[0m\u001b[0;34m,\u001b[0m \u001b[0mdtype\u001b[0m\u001b[0;34m=\u001b[0m\u001b[0mnp\u001b[0m\u001b[0;34m.\u001b[0m\u001b[0mfloat32\u001b[0m\u001b[0;34m)\u001b[0m\u001b[0;34m.\u001b[0m\u001b[0mreshape\u001b[0m\u001b[0;34m(\u001b[0m\u001b[0mshape\u001b[0m\u001b[0;34m)\u001b[0m\u001b[0;34m\u001b[0m\u001b[0m\n",
      "\u001b[0;32m/usr/local/lib/python3.4/dist-packages/pynq/drivers/xlnk.py\u001b[0m in \u001b[0;36mcma_alloc\u001b[0;34m(self, length, cacheable, data_type)\u001b[0m\n\u001b[1;32m    177\u001b[0m         \u001b[0mbuf\u001b[0m \u001b[0;34m=\u001b[0m \u001b[0mlibxlnk\u001b[0m\u001b[0;34m.\u001b[0m\u001b[0mcma_alloc\u001b[0m\u001b[0;34m(\u001b[0m\u001b[0mlength\u001b[0m\u001b[0;34m,\u001b[0m \u001b[0mcacheable\u001b[0m\u001b[0;34m)\u001b[0m\u001b[0;34m\u001b[0m\u001b[0m\n\u001b[1;32m    178\u001b[0m         \u001b[0;32mif\u001b[0m \u001b[0mbuf\u001b[0m \u001b[0;34m==\u001b[0m \u001b[0mffi\u001b[0m\u001b[0;34m.\u001b[0m\u001b[0mNULL\u001b[0m\u001b[0;34m:\u001b[0m\u001b[0;34m\u001b[0m\u001b[0m\n\u001b[0;32m--> 179\u001b[0;31m             \u001b[0;32mraise\u001b[0m \u001b[0mRuntimeError\u001b[0m\u001b[0;34m(\u001b[0m\u001b[0;34m\"Failed to allocate Memory!\"\u001b[0m\u001b[0;34m)\u001b[0m\u001b[0;34m\u001b[0m\u001b[0m\n\u001b[0m\u001b[1;32m    180\u001b[0m         \u001b[0mself\u001b[0m\u001b[0;34m.\u001b[0m\u001b[0mbufmap\u001b[0m\u001b[0;34m[\u001b[0m\u001b[0mbuf\u001b[0m\u001b[0;34m]\u001b[0m \u001b[0;34m=\u001b[0m \u001b[0mlength\u001b[0m\u001b[0;34m\u001b[0m\u001b[0m\n\u001b[1;32m    181\u001b[0m         \u001b[0;32mreturn\u001b[0m \u001b[0mffi\u001b[0m\u001b[0;34m.\u001b[0m\u001b[0mcast\u001b[0m\u001b[0;34m(\u001b[0m\u001b[0mdata_type\u001b[0m\u001b[0;34m+\u001b[0m\u001b[0;34m\"*\"\u001b[0m\u001b[0;34m,\u001b[0m\u001b[0mbuf\u001b[0m\u001b[0;34m)\u001b[0m\u001b[0;34m\u001b[0m\u001b[0m\n",
      "\u001b[0;31mRuntimeError\u001b[0m: Failed to allocate Memory!"
     ]
    }
   ],
   "source": [
    "for i in range(100):\n",
    "    test(debug=False)"
   ]
  },
  {
   "cell_type": "code",
   "execution_count": null,
   "metadata": {
    "collapsed": true
   },
   "outputs": [],
   "source": [
    "a = xlnk.xlnk()"
   ]
  },
  {
   "cell_type": "code",
   "execution_count": null,
   "metadata": {
    "collapsed": false
   },
   "outputs": [],
   "source": [
    "a.cma_memcopy?"
   ]
  },
  {
   "cell_type": "code",
   "execution_count": null,
   "metadata": {
    "collapsed": true
   },
   "outputs": [],
   "source": [
    "c"
   ]
  }
 ],
 "metadata": {
  "anaconda-cloud": {},
  "kernelspec": {
   "display_name": "Python 3",
   "language": "python",
   "name": "python3"
  },
  "language_info": {
   "codemirror_mode": {
    "name": "ipython",
    "version": 3
   },
   "file_extension": ".py",
   "mimetype": "text/x-python",
   "name": "python",
   "nbconvert_exporter": "python",
   "pygments_lexer": "ipython3",
   "version": "3.4.3+"
  }
 },
 "nbformat": 4,
 "nbformat_minor": 0
}
