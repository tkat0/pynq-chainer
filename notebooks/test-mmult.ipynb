{
 "cells": [
  {
   "cell_type": "markdown",
   "metadata": {},
   "source": [
    "# mmultの単体テスト"
   ]
  },
  {
   "cell_type": "code",
   "execution_count": null,
   "metadata": {
    "collapsed": false
   },
   "outputs": [],
   "source": [
    "import numpy as np\n",
    "import cffi\n",
    "\n",
    "from pynq import Overlay\n",
    "\n",
    "# load Base Overlay\n",
    "Overlay(\"/home/xilinx/pynq/bitstream/base.bit\").download()\n",
    "\n",
    "import sys\n",
    "sys.path.append(\"..\")\n",
    "\n",
    "from pynq_chainer import functions as F_\n",
    "from pynq_chainer import links as L_\n",
    "from pynq_chainer import overlays\n",
    "from pynq_chainer import utils"
   ]
  },
  {
   "cell_type": "code",
   "execution_count": null,
   "metadata": {
    "collapsed": false
   },
   "outputs": [],
   "source": [
    "from pynq.drivers import xlnk"
   ]
  },
  {
   "cell_type": "code",
   "execution_count": null,
   "metadata": {
    "collapsed": false
   },
   "outputs": [],
   "source": []
  },
  {
   "cell_type": "code",
   "execution_count": 2,
   "metadata": {
    "collapsed": true
   },
   "outputs": [],
   "source": [
    "mmult = overlays.Mmult()\n",
    "ffi = cffi.FFI()"
   ]
  },
  {
   "cell_type": "code",
   "execution_count": 3,
   "metadata": {
    "collapsed": false
   },
   "outputs": [],
   "source": [
    "def test(debug=False):\n",
    "    w_size = (1024, 32)\n",
    "    x_size = (512, 32)\n",
    "    w_size = (1, 784)\n",
    "    x_size = (32, 784)\n",
    "    w_size = (4, 4)\n",
    "    x_size = (4, 4)\n",
    "    w = np.random.uniform(-1, 1, w_size).astype(np.float32)\n",
    "    x = np.random.uniform(-1, 1, x_size).astype(np.float32)\n",
    "\n",
    "    x_nrows, x_ncols = x.shape\n",
    "    w_nrows, w_ncols = w.shape\n",
    "    #y = np.zeros((w_nrows, x_nrows)).astype(np.float32)\n",
    "    y, y_cdata = utils.malloc_cma_ndarray((w_nrows, x_nrows))\n",
    "    \n",
    "    x, x_cdata = utils.copy_cma_ndarray(x)\n",
    "    w, w_cdata = utils.copy_cma_ndarray(w)\n",
    "\n",
    "    #x_cdata = ffi.from_buffer(x.data)\n",
    "    #w_cdata = ffi.from_buffer(w.data)\n",
    "    #y_cdata = ffi.from_buffer(y.data)\n",
    "\n",
    "    print('call')\n",
    "    mmult(x_cdata, w_cdata, y_cdata, x_nrows, w_nrows, x_ncols)\n",
    "    print('done')\n",
    "    \n",
    "    y_ = x.dot(w.T)\n",
    "    y = y.T\n",
    "\n",
    "    if debug:\n",
    "        print(\"Actual(C):\")\n",
    "        print(y)\n",
    "        print(\"Expected(NumPy):\")\n",
    "        print(y_)\n",
    "    \n",
    "    if np.allclose(y, y_, rtol=1e-04, atol=1e-04):\n",
    "        print(\"OK\")\n",
    "    else:\n",
    "        print(\"NG\")"
   ]
  },
  {
   "cell_type": "code",
   "execution_count": null,
   "metadata": {
    "collapsed": false
   },
   "outputs": [
    {
     "name": "stdout",
     "output_type": "stream",
     "text": [
      "cma alloc\n",
      "cma alloc\n",
      "cma alloc\n",
      "call\n"
     ]
    }
   ],
   "source": [
    "for i in range(10):\n",
    "    test(debug=True)"
   ]
  },
  {
   "cell_type": "code",
   "execution_count": null,
   "metadata": {
    "collapsed": true
   },
   "outputs": [],
   "source": []
  }
 ],
 "metadata": {
  "anaconda-cloud": {},
  "kernelspec": {
   "display_name": "Python 3",
   "language": "python",
   "name": "python3"
  },
  "language_info": {
   "codemirror_mode": {
    "name": "ipython",
    "version": 3
   },
   "file_extension": ".py",
   "mimetype": "text/x-python",
   "name": "python",
   "nbconvert_exporter": "python",
   "pygments_lexer": "ipython3",
   "version": "3.4.3+"
  }
 },
 "nbformat": 4,
 "nbformat_minor": 0
}
