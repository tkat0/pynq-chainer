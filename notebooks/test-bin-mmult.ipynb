{
 "cells": [
  {
   "cell_type": "markdown",
   "metadata": {},
   "source": [
    "# mmult unit test"
   ]
  },
  {
   "cell_type": "code",
   "execution_count": 1,
   "metadata": {
    "collapsed": false
   },
   "outputs": [
    {
     "name": "stdout",
     "output_type": "stream",
     "text": [
      "PYNQ True\n",
      "pcsim is not run on pynq\n"
     ]
    }
   ],
   "source": [
    "import numpy as np\n",
    "import cffi\n",
    "\n",
    "from pynq import Overlay\n",
    "\n",
    "# load Base Overlay\n",
    "Overlay(\"/home/xilinx/pynq/bitstream/base.bit\").download()\n",
    "\n",
    "import sys\n",
    "sys.path.append(\"..\")\n",
    "\n",
    "from pynq_chainer import overlays"
   ]
  },
  {
   "cell_type": "code",
   "execution_count": 2,
   "metadata": {
    "collapsed": true
   },
   "outputs": [],
   "source": [
    "from pynq_chainer import utils"
   ]
  },
  {
   "cell_type": "code",
   "execution_count": 3,
   "metadata": {
    "collapsed": false
   },
   "outputs": [],
   "source": [
    "from pynq.drivers import xlnk\n",
    "mmu = xlnk.xlnk()\n",
    "mmu.xlnk_reset()"
   ]
  },
  {
   "cell_type": "code",
   "execution_count": 4,
   "metadata": {
    "collapsed": false
   },
   "outputs": [
    {
     "name": "stdout",
     "output_type": "stream",
     "text": [
      "{}\n",
      "load Overlay\n"
     ]
    }
   ],
   "source": [
    "mmult = overlays.BinMmult()\n",
    "ffi = cffi.FFI()"
   ]
  },
  {
   "cell_type": "code",
   "execution_count": 5,
   "metadata": {
    "collapsed": true
   },
   "outputs": [],
   "source": [
    "def debug_cdata(name, cdata, show=True):\n",
    "    if not show:\n",
    "        return\n",
    "    print(name)\n",
    "    for i in range(5):\n",
    "        print(cdata[i])"
   ]
  },
  {
   "cell_type": "code",
   "execution_count": 6,
   "metadata": {
    "collapsed": true
   },
   "outputs": [],
   "source": [
    "dtype = \"int\"\n",
    "npdtype = np.int32"
   ]
  },
  {
   "cell_type": "code",
   "execution_count": null,
   "metadata": {
    "collapsed": false
   },
   "outputs": [],
   "source": [
    "def test(debug=False):\n",
    "    ffi = cffi.FFI()\n",
    "    \n",
    "    x_size = (1, 32)\n",
    "    w_size = (16, 32)\n",
    "    \n",
    "    x = np.random.randint(-255, 255, x_size)\n",
    "    w = np.random.randint(-255, 255, w_size)\n",
    "    \n",
    "    # HW\n",
    "    x_hw = np.where(x>=0, 1, 0).astype(npdtype, copy=True)\n",
    "    w_hw = np.where(w>=0, 1, 0).astype(npdtype, copy=True).T.copy()\n",
    "    \n",
    "    # SW\n",
    "    x_sw = np.where(x>=0, 1, -1).astype(np.float32, copy=True)\n",
    "    w_sw = np.where(w>=0, 1, -1).astype(np.float32, copy=True)\n",
    "\n",
    "    x_nrows, x_ncols = x.shape\n",
    "    w_nrows, w_ncols = w.shape\n",
    "    y_hw, y_cdata = utils.malloc_cma_ndarray((w_nrows, x_nrows), dtype, npdtype)\n",
    "    \n",
    "    x_hw, x_cdata = utils.copy_cma_ndarray(x_hw, dtype)\n",
    "    #w_, w_cdata = utils.copy_cma_ndarray(w.T.copy(), dtype)\n",
    "    w_hw, w_cdata = utils.copy_cma_ndarray(w_hw, dtype)\n",
    "    \n",
    "    if debug:\n",
    "        print('x', x_cdata)\n",
    "        print('w', w_cdata)\n",
    "        print('y', y_cdata)\n",
    "    debug_cdata(\"x\", x_cdata)\n",
    "    debug_cdata(\"w\", w_cdata)\n",
    "    debug_cdata(\"y\", y_cdata)\n",
    "\n",
    "    mmult(x_cdata, w_cdata, y_cdata, w_nrows, x_ncols)\n",
    "    \n",
    "    debug_cdata(\"y\", y_cdata)\n",
    "    y_sw = x_sw.dot(w_sw.T)\n",
    "    y_hw = y_hw.T\n",
    "    \n",
    "    debug_cdata(\"y\", y_cdata)\n",
    "\n",
    "    if debug:\n",
    "        print(\"Actual(C):\")\n",
    "        print(y_hw)\n",
    "        print(\"Expected(NumPy):\")\n",
    "        print(y_sw)\n",
    "    \n",
    "    if np.allclose(y_hw, y_sw, rtol=1e-04, atol=1e-04):\n",
    "        print(\"OK\")\n",
    "    else:\n",
    "        print(\"NG\")\n",
    "        \n",
    "    mmu.cma_free(x_cdata)\n",
    "    mmu.cma_free(w_cdata)\n",
    "    mmu.cma_free(y_cdata)"
   ]
  },
  {
   "cell_type": "code",
   "execution_count": null,
   "metadata": {
    "collapsed": false,
    "scrolled": false
   },
   "outputs": [],
   "source": [
    "for i in range(1):\n",
    "    test(debug=True)"
   ]
  },
  {
   "cell_type": "code",
   "execution_count": 11,
   "metadata": {
    "collapsed": false
   },
   "outputs": [
    {
     "name": "stdout",
     "output_type": "stream",
     "text": [
      "cma alloc\n",
      "cma alloc\n",
      "cma alloc\n"
     ]
    }
   ],
   "source": [
    "L = 784\n",
    "M = 32\n",
    "x_size = (1, 1024)\n",
    "w_size = (1024, 1024)\n",
    "x = np.ones(x_size).astype(npdtype)\n",
    "w = np.ones(w_size).astype(npdtype)\n",
    "\n",
    "x_nrows, x_ncols = x.shape\n",
    "w_nrows, w_ncols = w.shape\n",
    "y, y_cdata = utils.malloc_cma_ndarray((w_nrows, x_nrows), dtype, npdtype)\n",
    "    \n",
    "# x, x_cdata = utils.copy_cma_ndarray(x, dtype)\n",
    "# w_, w_cdata = utils.copy_cma_ndarray(w, dtype)\n",
    "\n",
    "w_ = w.T.copy()\n",
    "\n",
    "w_size = (784,1024)\n",
    "x, x_cdata = utils.malloc_cma_ndarray(x_size, dtype, npdtype)\n",
    "w_, w_cdata = utils.malloc_cma_ndarray(w_size, dtype, npdtype)"
   ]
  },
  {
   "cell_type": "code",
   "execution_count": 8,
   "metadata": {
    "collapsed": false
   },
   "outputs": [
    {
     "data": {
      "text/plain": [
       "(784, 1024)"
      ]
     },
     "execution_count": 8,
     "metadata": {},
     "output_type": "execute_result"
    }
   ],
   "source": [
    "w_.shape"
   ]
  },
  {
   "cell_type": "code",
   "execution_count": 9,
   "metadata": {
    "collapsed": false
   },
   "outputs": [
    {
     "name": "stdout",
     "output_type": "stream",
     "text": [
      "1 loop, best of 3: 12.4 ms per loop\n"
     ]
    },
    {
     "data": {
      "text/plain": [
       "<TimeitResult : 1 loop, best of 3: 12.4 ms per loop>"
      ]
     },
     "execution_count": 9,
     "metadata": {},
     "output_type": "execute_result"
    }
   ],
   "source": [
    "%timeit -n 1 -o x.dot(w.T)"
   ]
  },
  {
   "cell_type": "code",
   "execution_count": 10,
   "metadata": {
    "collapsed": false
   },
   "outputs": [
    {
     "name": "stdout",
     "output_type": "stream",
     "text": [
      "1 loop, best of 3: 18.6 ms per loop\n"
     ]
    },
    {
     "data": {
      "text/plain": [
       "<TimeitResult : 1 loop, best of 3: 18.6 ms per loop>"
      ]
     },
     "execution_count": 10,
     "metadata": {},
     "output_type": "execute_result"
    }
   ],
   "source": [
    "%timeit -n 1 -o mmult(x_cdata, w_cdata, y_cdata, w_nrows, x_ncols)"
   ]
  },
  {
   "cell_type": "code",
   "execution_count": null,
   "metadata": {
    "collapsed": true
   },
   "outputs": [],
   "source": []
  }
 ],
 "metadata": {
  "anaconda-cloud": {},
  "kernelspec": {
   "display_name": "Python 3",
   "language": "python",
   "name": "python3"
  },
  "language_info": {
   "codemirror_mode": {
    "name": "ipython",
    "version": 3
   },
   "file_extension": ".py",
   "mimetype": "text/x-python",
   "name": "python",
   "nbconvert_exporter": "python",
   "pygments_lexer": "ipython3",
   "version": "3.4.3+"
  }
 },
 "nbformat": 4,
 "nbformat_minor": 0
}
