{
 "cells": [
  {
   "cell_type": "code",
   "execution_count": 1,
   "metadata": {
    "collapsed": false
   },
   "outputs": [],
   "source": [
    "import numpy as np\n",
    "import cffi\n",
    "\n",
    "try:\n",
    "    from pynq import Overlay\n",
    "\n",
    "    # load Base Overlay\n",
    "    Overlay(\"/home/xilinx/pynq/bitstream/base.bit\").download()\n",
    "\n",
    "    from pynq.drivers import xlnk\n",
    "    IS_PYNQ = True\n",
    "except:\n",
    "    IS_PYNQ = False\n",
    "    \n",
    "import chainer\n",
    "from chainer import links as L\n",
    "from chainer import functions as F\n",
    "from chainer import Variable\n",
    "\n",
    "import sys\n",
    "sys.path.append(\"..\")\n",
    "\n",
    "from pynq_chainer import functions as F_\n",
    "from pynq_chainer import links as L_\n",
    "from pynq_chainer import utils\n",
    "\n",
    "%matplotlib inline\n",
    "import matplotlib.pyplot as plt\n",
    "import sys"
   ]
  },
  {
   "cell_type": "code",
   "execution_count": 2,
   "metadata": {
    "collapsed": false
   },
   "outputs": [
    {
     "data": {
      "text/plain": [
       "False"
      ]
     },
     "execution_count": 2,
     "metadata": {},
     "output_type": "execute_result"
    }
   ],
   "source": [
    "IS_PYNQ"
   ]
  },
  {
   "cell_type": "code",
   "execution_count": 3,
   "metadata": {
    "collapsed": false
   },
   "outputs": [],
   "source": [
    "train, test = chainer.datasets.get_mnist()\n",
    "\n",
    "x, label = train[0]\n",
    "\n",
    "img = x.reshape(28,28)"
   ]
  },
  {
   "cell_type": "code",
   "execution_count": 4,
   "metadata": {
    "collapsed": true
   },
   "outputs": [],
   "source": [
    "input_image = x[np.newaxis,:]\n",
    "input_image = input_image.astype(np.float32)\n",
    "input_image = chainer.Variable(input_image)"
   ]
  },
  {
   "cell_type": "markdown",
   "metadata": {},
   "source": [
    "# CPU "
   ]
  },
  {
   "cell_type": "code",
   "execution_count": 5,
   "metadata": {
    "collapsed": true
   },
   "outputs": [],
   "source": [
    "class MLP(chainer.Chain):\n",
    "\n",
    "    def __init__(self, n_units, n_out):\n",
    "        super(MLP, self).__init__(\n",
    "            # the size of the inputs to each layer will be inferred\n",
    "            l1=L.Linear(None, n_units),  # n_in -> n_units\n",
    "            l2=L.Linear(None, n_units),  # n_units -> n_units\n",
    "            l3=L.Linear(None, n_out),  # n_units -> n_out\n",
    "        )\n",
    "\n",
    "    def __call__(self, x):\n",
    "        h1 = F.relu(self.l1(x))\n",
    "        h2 = F.relu(self.l2(h1))\n",
    "        h3 = self.l3(h2)\n",
    "        return h3"
   ]
  },
  {
   "cell_type": "code",
   "execution_count": 6,
   "metadata": {
    "collapsed": false
   },
   "outputs": [
    {
     "name": "stdout",
     "output_type": "stream",
     "text": [
      "[[  1.72932252e-13   1.29591280e-08   4.09194492e-08   2.45058211e-03\n",
      "    3.96321289e-23   9.97549355e-01   1.99582668e-15   1.14123099e-12\n",
      "    1.81230933e-11   1.20257918e-11]]\n",
      "result 5\n",
      "seikai 5\n"
     ]
    }
   ],
   "source": [
    "mlp_cpu = MLP(n_units=32, n_out=10)\n",
    "\n",
    "resume = \"../examples/mnist/mnist_iter_12000.npz\"\n",
    "chainer.serializers.load_npz(resume, mlp_cpu)\n",
    "\n",
    "h = F.softmax(mlp_cpu(input_image))\n",
    "y = F.argmax(h)\n",
    "\n",
    "print(h.data)\n",
    "print(\"result\", y.data)\n",
    "print(\"seikai\", label)"
   ]
  },
  {
   "cell_type": "markdown",
   "metadata": {},
   "source": [
    "# FPGA"
   ]
  },
  {
   "cell_type": "code",
   "execution_count": 7,
   "metadata": {
    "collapsed": true
   },
   "outputs": [],
   "source": [
    "class MLP_FPGA(chainer.Chain):\n",
    "\n",
    "    def __init__(self, n_units, n_out):\n",
    "        super(MLP_FPGA, self).__init__(\n",
    "            # the size of the inputs to each layer will be inferred\n",
    "            l1=L_.Linear(None, n_units, nobias=True),  # n_in -> n_units\n",
    "            l2=L_.Linear(None, n_units, nobias=True),  # n_units -> n_units\n",
    "            l3=L_.Linear(None, n_out, nobias=True),  # n_units -> n_out\n",
    "        )\n",
    "\n",
    "    def __call__(self, x):\n",
    "        if False:\n",
    "            h1 = self.l1(x)\n",
    "            print(h1.data)\n",
    "            h2 = self.l2(h1)\n",
    "            h3 = self.l3(h2)\n",
    "            return h3\n",
    "        \n",
    "        h = self.l1(x)\n",
    "        print(h)\n",
    "        h1 = F.relu(h)\n",
    "        print(\"h1 done\")\n",
    "        h2 = F.relu(self.l2(h1))\n",
    "        print(\"h2 done\")\n",
    "        h3 = self.l3(h2)\n",
    "        print(\"h3 done\")\n",
    "        print(x.shape)\n",
    "        print(h1.shape)\n",
    "        print(h1.data)\n",
    "        print(h2.shape)\n",
    "        print(h2.data)\n",
    "        print(h3.shape)\n",
    "        print(h3.data)\n",
    "        print(\"call done\")\n",
    "        return h3"
   ]
  },
  {
   "cell_type": "code",
   "execution_count": 8,
   "metadata": {
    "collapsed": false
   },
   "outputs": [
    {
     "name": "stdout",
     "output_type": "stream",
     "text": [
      "cma alloc (dummy)\n",
      "init model cma array W <cdata 'char[]' buffer len 100352 from 'memoryview' object> W\n",
      "cma alloc (dummy)\n",
      "init model cma array W <cdata 'char[]' buffer len 4096 from 'memoryview' object> W\n",
      "cma alloc (dummy)\n",
      "init model cma array W <cdata 'char[]' buffer len 1280 from 'memoryview' object> W\n"
     ]
    }
   ],
   "source": [
    "mlp_fpga = MLP_FPGA(n_units=32, n_out=10)\n",
    "\n",
    "resume = \"../examples/mnist/mnist_iter_12000.npz\"\n",
    "chainer.serializers.load_npz(resume, mlp_fpga)"
   ]
  },
  {
   "cell_type": "code",
   "execution_count": 11,
   "metadata": {
    "collapsed": false,
    "scrolled": false
   },
   "outputs": [
    {
     "name": "stdout",
     "output_type": "stream",
     "text": [
      "links <class 'chainer.variable.Variable'> <class 'chainer.variable.Variable'>\n",
      "cma alloc (dummy)\n",
      "links <class 'chainer.variable.Variable'> <class 'chainer.variable.Variable'>\n",
      "cma alloc (dummy)\n",
      "<var@1068a2470>\n",
      "h1 done\n",
      "links <class 'chainer.variable.Variable'> <class 'chainer.variable.Variable'>\n",
      "cma alloc (dummy)\n",
      "links <class 'chainer.variable.Variable'> <class 'chainer.variable.Variable'>\n",
      "cma alloc (dummy)\n",
      "h2 done\n",
      "links <class 'chainer.variable.Variable'> <class 'chainer.variable.Variable'>\n",
      "cma alloc (dummy)\n",
      "links <class 'chainer.variable.Variable'> <class 'chainer.variable.Variable'>\n",
      "cma alloc (dummy)\n",
      "h3 done\n",
      "(1, 784)\n",
      "(1, 32)\n",
      "[[ 3.05095577  0.          2.55680013  4.07168865  1.99023378  1.09072948\n",
      "   0.          4.49700737  5.57241726  0.          0.          0.\n",
      "   3.18601227  0.          0.          0.          0.          2.0017643\n",
      "   0.73404318  3.90470552  3.48775458  3.08954358  0.          0.          0.\n",
      "   3.60635543  3.32248259  0.          3.87468791  6.82556391  0.\n",
      "   4.46334553]]\n",
      "(1, 32)\n",
      "[[  0.           0.           5.02565289   0.           0.          11.26343632\n",
      "   10.10546875   4.12806177   1.70238233   0.           1.5839839    0.\n",
      "    8.94659138   6.88717413   2.5078423    0.           1.98536563\n",
      "    1.5230341    9.19224167   1.88881409   4.50216341   8.14881802\n",
      "    4.56349707   4.38310337   1.52259219   4.26489973   0.          14.38923359\n",
      "    6.82003307   0.           0.7940315    0.        ]]\n",
      "(1, 10)\n",
      "[[ -1.12384005e+01  -1.71990991e-02   1.50678456e+00   1.25328302e+01\n",
      "   -3.35310593e+01   1.75078526e+01  -1.52240114e+01  -8.81008053e+00\n",
      "   -7.29212523e+00  -7.53468132e+00]]\n",
      "call done\n",
      "[[  3.25589599e-13   2.43207516e-08   1.11643743e-07   6.86096540e-03\n",
      "    6.77786702e-23   9.93138850e-01   6.04980916e-15   3.69213254e-12\n",
      "    1.68467549e-11   1.32183032e-11]]\n",
      "result 5\n",
      "seikai 5\n"
     ]
    }
   ],
   "source": [
    "h = mlp_fpga(input_image)\n",
    "#print(h.data)\n",
    "h = F.softmax(h)\n",
    "print(h.data)\n",
    "y = F.argmax(h)\n",
    "print(\"result\", y.data)\n",
    "print(\"seikai\", label)"
   ]
  },
  {
   "cell_type": "code",
   "execution_count": null,
   "metadata": {
    "collapsed": false
   },
   "outputs": [],
   "source": [
    "[[ 3.05095577 -2.61691952  2.55680013  4.07168865  1.99023378  1.09072948\n",
    "  -1.82831872  4.49700737  5.57241726 -4.70780516 -2.25808644 -4.83468103\n",
    "   3.18601227 -3.28089046 -0.62773103 -0.6149773  -0.7455532   2.0017643\n",
    "   0.73404318  3.90470552  3.48775458  3.08954358 -0.47251615 -0.90851831\n",
    "  -0.327535    3.60635543  3.32248259 -3.12803578  3.87468791  6.82556391\n",
    "  -0.1521184   4.46334553]]\n",
    "cma alloc"
   ]
  },
  {
   "cell_type": "code",
   "execution_count": null,
   "metadata": {
    "collapsed": false
   },
   "outputs": [],
   "source": [
    "mlp_fpga.l1.W.data"
   ]
  },
  {
   "cell_type": "markdown",
   "metadata": {},
   "source": [
    "# Benchmark "
   ]
  },
  {
   "cell_type": "code",
   "execution_count": null,
   "metadata": {
    "collapsed": false
   },
   "outputs": [],
   "source": [
    " %timeit -n 2 -o mlp_cpu(input_image)"
   ]
  },
  {
   "cell_type": "code",
   "execution_count": null,
   "metadata": {
    "collapsed": false
   },
   "outputs": [],
   "source": [
    " %timeit -n 2 -o mlp_fpga(in_fpga)"
   ]
  },
  {
   "cell_type": "code",
   "execution_count": null,
   "metadata": {
    "collapsed": true
   },
   "outputs": [],
   "source": [
    "memmanager.xlnk_reset()"
   ]
  },
  {
   "cell_type": "code",
   "execution_count": null,
   "metadata": {
    "collapsed": true
   },
   "outputs": [],
   "source": []
  }
 ],
 "metadata": {
  "anaconda-cloud": {},
  "kernelspec": {
   "display_name": "Python 3",
   "language": "python",
   "name": "python3"
  },
  "language_info": {
   "codemirror_mode": {
    "name": "ipython",
    "version": 3
   },
   "file_extension": ".py",
   "mimetype": "text/x-python",
   "name": "python",
   "nbconvert_exporter": "python",
   "pygments_lexer": "ipython3",
   "version": "3.4.3+"
  }
 },
 "nbformat": 4,
 "nbformat_minor": 1
}
