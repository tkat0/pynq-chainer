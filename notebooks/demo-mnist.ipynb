{
 "cells": [
  {
   "cell_type": "markdown",
   "metadata": {},
   "source": [
    "# pynq-chainer\n",
    "\n",
    "* Chainerの行列計算の一部をFPGAにオフロード\n",
    "* PCとPYNQで同じアプリケーションコードが動くようにした"
   ]
  },
  {
   "cell_type": "code",
   "execution_count": 32,
   "metadata": {
    "collapsed": false
   },
   "outputs": [],
   "source": [
    "import random\n",
    "import numpy as np\n",
    "import cffi\n",
    "\n",
    "try:\n",
    "    from pynq import Overlay\n",
    "\n",
    "    # load Base Overlay\n",
    "    Overlay(\"/home/xilinx/pynq/bitstream/base.bit\").download()\n",
    "\n",
    "    from pynq.drivers import xlnk\n",
    "    IS_PYNQ = True\n",
    "except:\n",
    "    IS_PYNQ = False\n",
    "    \n",
    "import chainer\n",
    "from chainer import links as L\n",
    "from chainer import functions as F\n",
    "from chainer import Variable\n",
    "\n",
    "import sys\n",
    "sys.path.append(\"..\")\n",
    "\n",
    "from pynq_chainer import utils\n",
    "\n",
    "%matplotlib inline\n",
    "import matplotlib.pyplot as plt\n",
    "import sys"
   ]
  },
  {
   "cell_type": "code",
   "execution_count": 4,
   "metadata": {
    "collapsed": false
   },
   "outputs": [
    {
     "data": {
      "text/plain": [
       "False"
      ]
     },
     "execution_count": 4,
     "metadata": {},
     "output_type": "execute_result"
    }
   ],
   "source": [
    "IS_PYNQ"
   ]
  },
  {
   "cell_type": "code",
   "execution_count": 6,
   "metadata": {
    "collapsed": false
   },
   "outputs": [],
   "source": [
    "if IS_PYNQ:\n",
    "    mmu = xlnk.xlnk()\n",
    "    mmu.xlnk_reset()"
   ]
  },
  {
   "cell_type": "code",
   "execution_count": 7,
   "metadata": {
    "collapsed": true
   },
   "outputs": [],
   "source": [
    "train, test = chainer.datasets.get_mnist()"
   ]
  },
  {
   "cell_type": "code",
   "execution_count": 8,
   "metadata": {
    "collapsed": false
   },
   "outputs": [
    {
     "name": "stdout",
     "output_type": "stream",
     "text": [
      "0\n"
     ]
    }
   ],
   "source": [
    "idx = random.randint(0, len(train))\n",
    "x, label = train[idx]\n",
    "print(label)"
   ]
  },
  {
   "cell_type": "code",
   "execution_count": 9,
   "metadata": {
    "collapsed": true
   },
   "outputs": [],
   "source": [
    "input_image = x[np.newaxis,:]\n",
    "input_image = input_image.astype(np.float32)\n",
    "input_image = chainer.Variable(input_image)"
   ]
  },
  {
   "cell_type": "code",
   "execution_count": 10,
   "metadata": {
    "collapsed": false
   },
   "outputs": [
    {
     "data": {
      "text/plain": [
       "<matplotlib.image.AxesImage at 0x10641a748>"
      ]
     },
     "execution_count": 10,
     "metadata": {},
     "output_type": "execute_result"
    },
    {
     "data": {
      "image/png": "[encoded data removed]",
      "text/plain": [
       "<matplotlib.figure.Figure at 0x105b02c18>"
      ]
     },
     "metadata": {},
     "output_type": "display_data"
    }
   ],
   "source": [
    "img = x.reshape(28,28)\n",
    "plt.imshow(img)"
   ]
  },
  {
   "cell_type": "markdown",
   "metadata": {},
   "source": [
    "# CPU "
   ]
  },
  {
   "cell_type": "code",
   "execution_count": 33,
   "metadata": {
    "collapsed": true
   },
   "outputs": [],
   "source": [
    "class MLP(chainer.Chain):\n",
    "\n",
    "    def __init__(self, n_units, n_out):\n",
    "        super(MLP, self).__init__(\n",
    "            # the size of the inputs to each layer will be inferred\n",
    "            l1=L.Linear(None, n_units, nobias=True),  # n_in -> n_units\n",
    "            l2=L.Linear(None, n_units, nobias=True),  # n_units -> n_units\n",
    "            l3=L.Linear(None, n_out, nobias=True),  # n_units -> n_out\n",
    "        )\n",
    "\n",
    "    def __call__(self, x):\n",
    "        h1 = F.relu(self.l1(x))\n",
    "        h2 = F.relu(self.l2(h1))\n",
    "        h3 = self.l3(h2)\n",
    "        return h3"
   ]
  },
  {
   "cell_type": "code",
   "execution_count": 34,
   "metadata": {
    "collapsed": false
   },
   "outputs": [
    {
     "name": "stdout",
     "output_type": "stream",
     "text": [
      "[[  9.99916196e-01   1.09165593e-16   4.74979771e-07   4.57928495e-09\n",
      "    1.28677076e-16   8.20582718e-05   9.98348071e-08   1.48064998e-11\n",
      "    1.23012825e-07   1.10781036e-06]]\n",
      "result 0\n",
      "seikai 0\n"
     ]
    }
   ],
   "source": [
    "mlp_cpu = MLP(n_units=32, n_out=10)\n",
    "\n",
    "resume = \"../examples/mnist/mnist_iter_12000.npz\"\n",
    "chainer.serializers.load_npz(resume, mlp_cpu)\n",
    "\n",
    "h = F.softmax(mlp_cpu(input_image))\n",
    "y = F.argmax(h)\n",
    "\n",
    "print(h.data)\n",
    "print(\"result\", y.data)\n",
    "print(\"seikai\", label)"
   ]
  },
  {
   "cell_type": "markdown",
   "metadata": {},
   "source": [
    "# FPGA"
   ]
  },
  {
   "cell_type": "code",
   "execution_count": 35,
   "metadata": {
    "collapsed": true
   },
   "outputs": [],
   "source": [
    "# replace chainer to pynq-chainer\n",
    "\n",
    "#from pynq_chainer import functions as F\n",
    "from pynq_chainer import links as L"
   ]
  },
  {
   "cell_type": "code",
   "execution_count": 36,
   "metadata": {
    "collapsed": false
   },
   "outputs": [
    {
     "name": "stdout",
     "output_type": "stream",
     "text": [
      "init model cma array W <cdata 'char[]' buffer len 1280 from 'memoryview' object> W\n",
      "init model cma array W <cdata 'char[]' buffer len 4096 from 'memoryview' object> W\n",
      "init model cma array W <cdata 'char[]' buffer len 100352 from 'memoryview' object> W\n"
     ]
    }
   ],
   "source": [
    "mlp_fpga = MLP(n_units=32, n_out=10)\n",
    "\n",
    "resume = \"../examples/mnist/mnist_iter_12000.npz\"\n",
    "chainer.serializers.load_npz(resume, mlp_fpga)"
   ]
  },
  {
   "cell_type": "code",
   "execution_count": 37,
   "metadata": {
    "collapsed": false,
    "scrolled": false
   },
   "outputs": [
    {
     "name": "stdout",
     "output_type": "stream",
     "text": [
      "[[  9.99916196e-01   1.09166003e-16   4.74980652e-07   4.57927607e-09\n",
      "    1.28676587e-16   8.20584319e-05   9.98349989e-08   1.48064998e-11\n",
      "    1.23012953e-07   1.10780718e-06]]\n",
      "result 0\n",
      "seikai 0\n"
     ]
    }
   ],
   "source": [
    "h = mlp_fpga(input_image)\n",
    "h = F.softmax(h)\n",
    "y = F.argmax(h)\n",
    "print(h.data)\n",
    "print(\"result\", y.data)\n",
    "print(\"seikai\", label)"
   ]
  },
  {
   "cell_type": "markdown",
   "metadata": {},
   "source": [
    "# Benchmark "
   ]
  },
  {
   "cell_type": "code",
   "execution_count": 40,
   "metadata": {
    "collapsed": false
   },
   "outputs": [
    {
     "name": "stdout",
     "output_type": "stream",
     "text": [
      "1 loop, best of 3: 1.15 ms per loop\n"
     ]
    }
   ],
   "source": [
    "%timeit -n 1 mlp_cpu(input_image)"
   ]
  },
  {
   "cell_type": "code",
   "execution_count": 41,
   "metadata": {
    "collapsed": false,
    "scrolled": false
   },
   "outputs": [
    {
     "name": "stdout",
     "output_type": "stream",
     "text": [
      "1 loop, best of 3: 1.3 ms per loop\n"
     ]
    }
   ],
   "source": [
    "%timeit -n 1 mlp_fpga(input_image)"
   ]
  },
  {
   "cell_type": "code",
   "execution_count": null,
   "metadata": {
    "collapsed": true
   },
   "outputs": [],
   "source": []
  }
 ],
 "metadata": {
  "anaconda-cloud": {},
  "kernelspec": {
   "display_name": "Python [Root]",
   "language": "python",
   "name": "Python [Root]"
  },
  "language_info": {
   "codemirror_mode": {
    "name": "ipython",
    "version": 3
   },
   "file_extension": ".py",
   "mimetype": "text/x-python",
   "name": "python",
   "nbconvert_exporter": "python",
   "pygments_lexer": "ipython3",
   "version": "3.5.2"
  }
 },
 "nbformat": 4,
 "nbformat_minor": 1
}
